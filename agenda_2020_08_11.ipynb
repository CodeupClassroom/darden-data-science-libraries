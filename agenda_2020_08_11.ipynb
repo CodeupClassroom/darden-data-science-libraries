{
 "cells": [
  {
   "cell_type": "markdown",
   "metadata": {},
   "source": [
    "# 2020-08-11, Tuesday\n",
    "\n",
    "“[B]egin challenging your own assumptions. Your assumptions are your windows on the world. Scrub them off every once in a while or the light won’t come in.”\n",
    "― Alan Alda, Things I Overheard While Talking to Myself\n",
    "\n",
    "\n",
    "\"You can’t calm the storm, so stop trying. What you can do is calm yourself. The storm will pass.” - Timber Hawkeye\n",
    "\n",
    "\n",
    "1. Numpy Exercise Review \n",
    "2. Series Lesson\n",
    "3. Series Exercises"
   ]
  },
  {
   "cell_type": "code",
   "execution_count": null,
   "metadata": {},
   "outputs": [],
   "source": []
  }
 ],
 "metadata": {
  "kernelspec": {
   "display_name": "Python 3",
   "language": "python",
   "name": "python3"
  },
  "language_info": {
   "codemirror_mode": {
    "name": "ipython",
    "version": 3
   },
   "file_extension": ".py",
   "mimetype": "text/x-python",
   "name": "python",
   "nbconvert_exporter": "python",
   "pygments_lexer": "ipython3",
   "version": "3.6.8"
  }
 },
 "nbformat": 4,
 "nbformat_minor": 2
}
