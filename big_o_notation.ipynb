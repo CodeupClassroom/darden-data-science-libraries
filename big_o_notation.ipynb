{
 "cells": [
  {
   "cell_type": "markdown",
   "metadata": {},
   "source": [
    "# Plotting Big O Notation\n",
    "\n",
    "## About Big $\\mathcal{O}$\n",
    "\n",
    "\"Big O notation is a mathematical notation that describes the limiting behavior of a function when the argument tends towards a particular value or infinity.\" https://en.wikipedia.org/wiki/Big_O_notation\n",
    "\n",
    "For example, how long is this model going to take to run as the number of my observations increase? \n",
    "\n",
    "## Exercise\n",
    "\n",
    "1. Title your chart \"Big O Notation\"  \n",
    "\n",
    "2. Label your x axis \"Elements\"  \n",
    "\n",
    "3. Label your y axis \"Operations\"  \n",
    "\n",
    "4. Label your curves or make a legend for the curves  \n",
    "\n",
    "5. Use LaTex notation where possible  \n",
    "\n",
    "6. Graph the following curves and label as indicated: \n",
    "\n",
    "    1. $y = 0x  + 1$, label = $\\mathcal{O}(1)$  \n",
    "    2. $y = log(x)$, label = $\\mathcal{O}(log n)$  \n",
    "    3. $y = x$, label = $\\mathcal{O}(n)$  \n",
    "    4. $y = x * log(x)$, label = $\\mathcal{O}(n log n)$  \n",
    "    5. $y = x^{2}$, label = $\\mathcal{O}(n^{2})$  \n",
    "    6. $y = 2^{x}$, label = $\\mathcal{O}(2^{n})$  \n",
    "    7. $y = n!$, label = $\\mathcal{O}(n!)$  \n",
    "    8. $y = n^{n}$, label = $\\mathcal{O}(n^{n})$  "
   ]
  }
 ],
 "metadata": {
  "kernelspec": {
   "display_name": "Python 3",
   "language": "python",
   "name": "python3"
  },
  "language_info": {
   "codemirror_mode": {
    "name": "ipython",
    "version": 3
   },
   "file_extension": ".py",
   "mimetype": "text/x-python",
   "name": "python",
   "nbconvert_exporter": "python",
   "pygments_lexer": "ipython3",
   "version": "3.6.8"
  }
 },
 "nbformat": 4,
 "nbformat_minor": 2
}
