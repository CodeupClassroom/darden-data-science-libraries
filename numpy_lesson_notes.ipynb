{
 "cells": [
  {
   "cell_type": "markdown",
   "metadata": {},
   "source": [
    "# Numpy"
   ]
  },
  {
   "cell_type": "code",
   "execution_count": 1,
   "metadata": {},
   "outputs": [],
   "source": [
    "import numpy as np"
   ]
  },
  {
   "cell_type": "markdown",
   "metadata": {},
   "source": [
    "## Vectorized Operations\n",
    "\n",
    "Doing addition with every single list element requires a loop or a list comprehension:"
   ]
  },
  {
   "cell_type": "code",
   "execution_count": 2,
   "metadata": {},
   "outputs": [
    {
     "ename": "TypeError",
     "evalue": "can only concatenate list (not \"int\") to list",
     "output_type": "error",
     "traceback": [
      "\u001b[0;31m---------------------------------------------------------------------------\u001b[0m",
      "\u001b[0;31mTypeError\u001b[0m                                 Traceback (most recent call last)",
      "\u001b[0;32m<ipython-input-2-0736e8f5bfd5>\u001b[0m in \u001b[0;36m<module>\u001b[0;34m\u001b[0m\n\u001b[0;32m----> 1\u001b[0;31m \u001b[0;34m[\u001b[0m\u001b[0;36m1\u001b[0m\u001b[0;34m,\u001b[0m \u001b[0;36m2\u001b[0m\u001b[0;34m,\u001b[0m \u001b[0;36m3\u001b[0m\u001b[0;34m]\u001b[0m \u001b[0;34m+\u001b[0m \u001b[0;36m2\u001b[0m\u001b[0;34m\u001b[0m\u001b[0;34m\u001b[0m\u001b[0m\n\u001b[0m",
      "\u001b[0;31mTypeError\u001b[0m: can only concatenate list (not \"int\") to list"
     ]
    }
   ],
   "source": [
    "[1, 2, 3] + 2"
   ]
  },
  {
   "cell_type": "markdown",
   "metadata": {},
   "source": [
    "Numpy can make this, and almost any other operation easier (**vectorized**):"
   ]
  },
  {
   "cell_type": "code",
   "execution_count": 4,
   "metadata": {},
   "outputs": [],
   "source": [
    "a = np.array([1, 2, 3, 4, 5])"
   ]
  },
  {
   "cell_type": "code",
   "execution_count": 12,
   "metadata": {},
   "outputs": [
    {
     "data": {
      "text/plain": [
       "array([3, 4, 5, 6, 7])"
      ]
     },
     "execution_count": 12,
     "metadata": {},
     "output_type": "execute_result"
    }
   ],
   "source": [
    "a"
   ]
  },
  {
   "cell_type": "code",
   "execution_count": 11,
   "metadata": {},
   "outputs": [],
   "source": [
    "a += 2"
   ]
  },
  {
   "cell_type": "code",
   "execution_count": 13,
   "metadata": {},
   "outputs": [
    {
     "data": {
      "text/plain": [
       "array([-7, -6, -5, -4, -3])"
      ]
     },
     "execution_count": 13,
     "metadata": {},
     "output_type": "execute_result"
    }
   ],
   "source": [
    "a - 10"
   ]
  },
  {
   "cell_type": "code",
   "execution_count": 14,
   "metadata": {},
   "outputs": [
    {
     "data": {
      "text/plain": [
       "array([ 6,  8, 10, 12, 14])"
      ]
     },
     "execution_count": 14,
     "metadata": {},
     "output_type": "execute_result"
    }
   ],
   "source": [
    "a * 2"
   ]
  },
  {
   "cell_type": "code",
   "execution_count": 15,
   "metadata": {},
   "outputs": [
    {
     "data": {
      "text/plain": [
       "array([0.15, 0.2 , 0.25, 0.3 , 0.35])"
      ]
     },
     "execution_count": 15,
     "metadata": {},
     "output_type": "execute_result"
    }
   ],
   "source": [
    "a / 20"
   ]
  },
  {
   "cell_type": "code",
   "execution_count": 16,
   "metadata": {},
   "outputs": [
    {
     "data": {
      "text/plain": [
       "array([3, 4, 5, 6, 7])"
      ]
     },
     "execution_count": 16,
     "metadata": {},
     "output_type": "execute_result"
    }
   ],
   "source": [
    "a"
   ]
  },
  {
   "cell_type": "code",
   "execution_count": 17,
   "metadata": {},
   "outputs": [
    {
     "data": {
      "text/plain": [
       "array([False, False,  True, False, False])"
      ]
     },
     "execution_count": 17,
     "metadata": {},
     "output_type": "execute_result"
    }
   ],
   "source": [
    "a == 5"
   ]
  },
  {
   "cell_type": "code",
   "execution_count": 18,
   "metadata": {},
   "outputs": [
    {
     "data": {
      "text/plain": [
       "array([ True,  True, False, False, False])"
      ]
     },
     "execution_count": 18,
     "metadata": {},
     "output_type": "execute_result"
    }
   ],
   "source": [
    "a < 5"
   ]
  },
  {
   "cell_type": "code",
   "execution_count": 19,
   "metadata": {},
   "outputs": [
    {
     "data": {
      "text/plain": [
       "array([False, False, False,  True,  True])"
      ]
     },
     "execution_count": 19,
     "metadata": {},
     "output_type": "execute_result"
    }
   ],
   "source": [
    "a >= 6"
   ]
  },
  {
   "cell_type": "markdown",
   "metadata": {},
   "source": [
    "## Indexing"
   ]
  },
  {
   "cell_type": "code",
   "execution_count": 20,
   "metadata": {},
   "outputs": [
    {
     "data": {
      "text/plain": [
       "array([3, 4, 5, 6, 7])"
      ]
     },
     "execution_count": 20,
     "metadata": {},
     "output_type": "execute_result"
    }
   ],
   "source": [
    "a"
   ]
  },
  {
   "cell_type": "code",
   "execution_count": 21,
   "metadata": {},
   "outputs": [
    {
     "data": {
      "text/plain": [
       "3"
      ]
     },
     "execution_count": 21,
     "metadata": {},
     "output_type": "execute_result"
    }
   ],
   "source": [
    "a[0]"
   ]
  },
  {
   "cell_type": "code",
   "execution_count": 22,
   "metadata": {},
   "outputs": [
    {
     "data": {
      "text/plain": [
       "array([3, 4, 5])"
      ]
     },
     "execution_count": 22,
     "metadata": {},
     "output_type": "execute_result"
    }
   ],
   "source": [
    "a[:3]"
   ]
  },
  {
   "cell_type": "markdown",
   "metadata": {},
   "source": [
    "Comparison operators produce boolean lists, or *masks*. These masks can be used to index into arrays to extract only the elements where the mask is true.\n",
    "\n",
    "Demo:\n",
    "\n",
    "1. Create a boolean mask\n",
    "2. Index into the array\n",
    "3. Negate the mask"
   ]
  },
  {
   "cell_type": "code",
   "execution_count": 25,
   "metadata": {},
   "outputs": [
    {
     "data": {
      "text/plain": [
       "array([3, 4, 5])"
      ]
     },
     "execution_count": 25,
     "metadata": {},
     "output_type": "execute_result"
    }
   ],
   "source": [
    "mask = [True, True, True, False, False]\n",
    "a[mask]"
   ]
  },
  {
   "cell_type": "code",
   "execution_count": 26,
   "metadata": {},
   "outputs": [
    {
     "data": {
      "text/plain": [
       "array([3, 4, 5, 6, 7])"
      ]
     },
     "execution_count": 26,
     "metadata": {},
     "output_type": "execute_result"
    }
   ],
   "source": [
    "a"
   ]
  },
  {
   "cell_type": "code",
   "execution_count": 27,
   "metadata": {},
   "outputs": [
    {
     "data": {
      "text/plain": [
       "array([ True,  True, False, False, False])"
      ]
     },
     "execution_count": 27,
     "metadata": {},
     "output_type": "execute_result"
    }
   ],
   "source": [
    "a < 5"
   ]
  },
  {
   "cell_type": "code",
   "execution_count": 28,
   "metadata": {},
   "outputs": [
    {
     "data": {
      "text/plain": [
       "array([3, 4])"
      ]
     },
     "execution_count": 28,
     "metadata": {},
     "output_type": "execute_result"
    }
   ],
   "source": [
    "a[a < 5]"
   ]
  },
  {
   "cell_type": "code",
   "execution_count": 29,
   "metadata": {},
   "outputs": [
    {
     "data": {
      "text/plain": [
       "array([6, 7])"
      ]
     },
     "execution_count": 29,
     "metadata": {},
     "output_type": "execute_result"
    }
   ],
   "source": [
    "a[a > 5]"
   ]
  },
  {
   "cell_type": "code",
   "execution_count": 32,
   "metadata": {},
   "outputs": [
    {
     "data": {
      "text/plain": [
       "array([3, 5, 7])"
      ]
     },
     "execution_count": 32,
     "metadata": {},
     "output_type": "execute_result"
    }
   ],
   "source": [
    "a[a % 2 == 1]"
   ]
  },
  {
   "cell_type": "code",
   "execution_count": 31,
   "metadata": {},
   "outputs": [
    {
     "data": {
      "text/plain": [
       "array([3, 5, 7])"
      ]
     },
     "execution_count": 31,
     "metadata": {},
     "output_type": "execute_result"
    }
   ],
   "source": [
    "odd_number_filter = a % 2 == 1\n",
    "a[odd_number_filter]"
   ]
  },
  {
   "cell_type": "code",
   "execution_count": 34,
   "metadata": {},
   "outputs": [
    {
     "data": {
      "text/plain": [
       "array([3, 7])"
      ]
     },
     "execution_count": 34,
     "metadata": {},
     "output_type": "execute_result"
    }
   ],
   "source": [
    "# a <= 3 or a > 6\n",
    "a[(a <= 3) | (a > 6)]"
   ]
  },
  {
   "cell_type": "markdown",
   "metadata": {},
   "source": [
    "For comparing numpy arrays, you **cannot** use `and` / `or` / `not`.\n",
    "\n",
    "Instead use:\n",
    "\n",
    "- `&`: and\n",
    "- `|`: or\n",
    "- `~`: not"
   ]
  },
  {
   "cell_type": "code",
   "execution_count": 35,
   "metadata": {},
   "outputs": [],
   "source": [
    "elements_less_than_3 = a <= 3\n",
    "greater_than_6 = a > 6"
   ]
  },
  {
   "cell_type": "code",
   "execution_count": 36,
   "metadata": {},
   "outputs": [
    {
     "data": {
      "text/plain": [
       "array([ True, False, False, False, False])"
      ]
     },
     "execution_count": 36,
     "metadata": {},
     "output_type": "execute_result"
    }
   ],
   "source": [
    "elements_less_than_3"
   ]
  },
  {
   "cell_type": "code",
   "execution_count": 37,
   "metadata": {},
   "outputs": [
    {
     "data": {
      "text/plain": [
       "array([False, False, False, False,  True])"
      ]
     },
     "execution_count": 37,
     "metadata": {},
     "output_type": "execute_result"
    }
   ],
   "source": [
    "greater_than_6"
   ]
  },
  {
   "cell_type": "code",
   "execution_count": 38,
   "metadata": {},
   "outputs": [
    {
     "data": {
      "text/plain": [
       "array([ True, False, False, False,  True])"
      ]
     },
     "execution_count": 38,
     "metadata": {},
     "output_type": "execute_result"
    }
   ],
   "source": [
    "elements_less_than_3 | greater_than_6"
   ]
  },
  {
   "cell_type": "code",
   "execution_count": 39,
   "metadata": {},
   "outputs": [
    {
     "data": {
      "text/plain": [
       "array([False,  True,  True,  True,  True])"
      ]
     },
     "execution_count": 39,
     "metadata": {},
     "output_type": "execute_result"
    }
   ],
   "source": [
    "~ elements_less_than_3"
   ]
  },
  {
   "cell_type": "code",
   "execution_count": 42,
   "metadata": {},
   "outputs": [
    {
     "data": {
      "text/plain": [
       "array([3, 7])"
      ]
     },
     "execution_count": 42,
     "metadata": {},
     "output_type": "execute_result"
    }
   ],
   "source": [
    "a[elements_less_than_3 | greater_than_6]"
   ]
  },
  {
   "cell_type": "code",
   "execution_count": 44,
   "metadata": {},
   "outputs": [
    {
     "data": {
      "text/plain": [
       "array([3, 7])"
      ]
     },
     "execution_count": 44,
     "metadata": {},
     "output_type": "execute_result"
    }
   ],
   "source": [
    "a[(a <= 3) | (a > 6)]"
   ]
  },
  {
   "cell_type": "markdown",
   "metadata": {},
   "source": [
    "## Methods\n",
    "\n",
    "- `min`\n",
    "- `max`\n",
    "- `sum`\n",
    "- `std`\n",
    "- `any`, `all`"
   ]
  },
  {
   "cell_type": "code",
   "execution_count": 45,
   "metadata": {},
   "outputs": [
    {
     "data": {
      "text/plain": [
       "array([3, 4, 5, 6, 7])"
      ]
     },
     "execution_count": 45,
     "metadata": {},
     "output_type": "execute_result"
    }
   ],
   "source": [
    "a"
   ]
  },
  {
   "cell_type": "code",
   "execution_count": 46,
   "metadata": {},
   "outputs": [
    {
     "data": {
      "text/plain": [
       "3"
      ]
     },
     "execution_count": 46,
     "metadata": {},
     "output_type": "execute_result"
    }
   ],
   "source": [
    "a.min()"
   ]
  },
  {
   "cell_type": "code",
   "execution_count": 47,
   "metadata": {},
   "outputs": [
    {
     "data": {
      "text/plain": [
       "7"
      ]
     },
     "execution_count": 47,
     "metadata": {},
     "output_type": "execute_result"
    }
   ],
   "source": [
    "a.max()"
   ]
  },
  {
   "cell_type": "code",
   "execution_count": 48,
   "metadata": {},
   "outputs": [
    {
     "data": {
      "text/plain": [
       "25"
      ]
     },
     "execution_count": 48,
     "metadata": {},
     "output_type": "execute_result"
    }
   ],
   "source": [
    "a.sum()"
   ]
  },
  {
   "cell_type": "code",
   "execution_count": 49,
   "metadata": {},
   "outputs": [
    {
     "data": {
      "text/plain": [
       "1.4142135623730951"
      ]
     },
     "execution_count": 49,
     "metadata": {},
     "output_type": "execute_result"
    }
   ],
   "source": [
    "a.std()"
   ]
  },
  {
   "cell_type": "markdown",
   "metadata": {},
   "source": [
    "- `.all` -- every single element is `True`\n",
    "- `.any` -- at least one element is `True`"
   ]
  },
  {
   "cell_type": "code",
   "execution_count": 52,
   "metadata": {},
   "outputs": [
    {
     "data": {
      "text/plain": [
       "True"
      ]
     },
     "execution_count": 52,
     "metadata": {},
     "output_type": "execute_result"
    }
   ],
   "source": [
    "# Are all the elements in a less than 10?\n",
    "(a < 10).all()"
   ]
  },
  {
   "cell_type": "code",
   "execution_count": 54,
   "metadata": {},
   "outputs": [
    {
     "data": {
      "text/plain": [
       "False"
      ]
     },
     "execution_count": 54,
     "metadata": {},
     "output_type": "execute_result"
    }
   ],
   "source": [
    "# Are there any negative numbers?\n",
    "(a < 0).any()"
   ]
  },
  {
   "cell_type": "markdown",
   "metadata": {},
   "source": [
    "## More Examples"
   ]
  },
  {
   "cell_type": "code",
   "execution_count": 55,
   "metadata": {},
   "outputs": [],
   "source": [
    "# Generate 1000 random numbers between 1 and 100\n",
    "np.random.seed(123)\n",
    "a = np.random.randint(1, 101, 1000)"
   ]
  },
  {
   "cell_type": "code",
   "execution_count": 56,
   "metadata": {},
   "outputs": [
    {
     "data": {
      "text/plain": [
       "array([ 67,  93,  99,  18,  84,  58,  87,  98,  97,  48,  74,  33,  47,\n",
       "        97,  26,  84,  79,  37,  97,  81,  69,  50,  56,  68,   3,  85,\n",
       "        40,  67,  85,  48,  62,  49,   8, 100,  93,  53,  98,  86,  95,\n",
       "        28,  35,  98,  77,  41,   4,  70,  65,  76,  35,  59,  11,  23,\n",
       "        78,  19,  16,  28,  31,  53,  71,  27,  81,   7,  15,  76,  55,\n",
       "        72,   2,  44,  59,  56,  26,  51,  85,  57,  50,  13,  19,  82,\n",
       "         2,  52,  45,  49,  57,  92,  50,  87,   4,  68,  12,  22,  90,\n",
       "        99,   4,  12,   4,  95,   7,  10,  88,  15,  84,  71,  13,  55,\n",
       "        28,  39,  18,  62,  75, 100, 100,  66,  48,  17,   6,  87,  47,\n",
       "        16,  60,  41,  26,  46,  50,   1,  36,  30,   2,  84,  69,  31,\n",
       "         8,  94,  61,  66,  77,  68,  45,  52,   8,  89,  71,  14,  29,\n",
       "        64,  85,  37,  97,  41,  89,  64,  59,  78,   9,  79,   7,  66,\n",
       "        95,  71,  41,  75,  77,  77,  26,   8,  14,  45,   2,  42,  79,\n",
       "        57,  88,  64,  98,   4,  18,  89,  88,  70,  98,  51,   3,  19,\n",
       "        47,  46,  58,  36,  19,  92,  47,  55,  74,  82,  63,  68,  12,\n",
       "        27,  93,  76,  11,   4,  46,  59,  60,  24,  26,  28,  58,   4,\n",
       "       100,  79,  86,  60,  49,  57,  88,  88,   5,  70,  57,  61,  10,\n",
       "        67,  34,  70,  10,  80,  29,  67,  11,   4,  49,   4,  24,  92,\n",
       "        56,  35,  38,  50,  88,  86,  26,  18,  59,  67,  46,  11,   9,\n",
       "        97,  26, 100,  68,  66,   8,  71, 100,  98,  40,  83,  93,  39,\n",
       "         6,  10,  41,  69,  88,  22,  90,  51,  37,  45,  93, 100,  84,\n",
       "        82,  62,  15,  79,  24,  63,  29,  81,  25,  16,  50,  81,  85,\n",
       "        91,   5,  22,  33,  40,   2,  99,  83,  91,  36,  59,  39,   2,\n",
       "        53,  18,  46,  23,  54,  90,  75,   1,  36,  84,  95,  72,  40,\n",
       "        88,  84,  79,  30,  20,  38,   2,   6,  82,  36,  78,  26,  98,\n",
       "        94,  71,  59,  30,  82,  22,  17,  31,  56,  81,  31,  13,  91,\n",
       "        84,  17,  93,  39,  99,   8,  38,  15,   1,  97,   3,  38,  48,\n",
       "        63,  62,  15,  62,  82,  38,  95,  20,  59,   7,  91,  72,  78,\n",
       "        79,  71,  97,  52,  98,   4,   1,  78,  95,  38,  53,  84,   3,\n",
       "        99,  97,  15,   3,  92,  91,  33,  83,  56,  33,  31,   4,  96,\n",
       "        92,  80,  92,  79,  22,  31,  60,  85,  32,  71,  97,   8,  78,\n",
       "        62,  89,  96,  28,  66,  17,  91,   2,   8,  38,  20,  64,  21,\n",
       "        90,  31,  84,  70,  15,  57,   1,  90,  29,  66,  22,  61,  29,\n",
       "         9,  41,  21,  55,  96,  96,  40,  26,  48,  77,   3,  96,  33,\n",
       "        97,  42,  77,  43,  70,   4,  64,  70,  51,  67,  91,  84,  18,\n",
       "        20,  30,  74,  52,  23,  47,   3,  50,   9,  19,  36,  40,  27,\n",
       "        92,  72,  72,  82,  21,  13,  27,  62,  40,  53,  80,  40,   9,\n",
       "        27,  81,   3,  56,  53,   4,  40,  52,  56,  65,  78,  72,  71,\n",
       "        30,  25,  39,  80,  75,  25,  33,  63,  54,  51,  85,  52,  52,\n",
       "        74,  56,  73,   1,  98,  31,  21,  24,  19,  61,  60,  85,  25,\n",
       "        20,  26,   7,  67,  56,  72,  94,  11,  72,  17,  72,  47,  44,\n",
       "        64,  30,  43,  16,   4,  85,  50,  34,  35,  64,  13,  27,  72,\n",
       "        41,  42,  29,  16,  53,  46,  69,  37,  60,  74,  15,  21,  34,\n",
       "        86,  86,   9,  26,  77,  18,   1,  23,  33,  47,  95,  21,  87,\n",
       "        80,  61,  27,  63,  52,  64,  14,  47,   7,  76,  28,   3,  22,\n",
       "        85,  63,  29,  20,  67,  91,  85,  33,  94,  48,  41,   9,  48,\n",
       "        87,  54,  23,  65,  21,  32,  26,  33,  60,   9,  81,  70,  46,\n",
       "         7,   7,  69,  33,  10,  81,  28,  47,  46,  22,  21,  56,  32,\n",
       "        32,  36,  31,  70,  54,  21,  35,  78,  23,  42,  24,  94,  74,\n",
       "        69,  42,  30,  71,   6,  72,  52,  90,  82, 100,  26, 100,  41,\n",
       "        68,  54,  60,  77,  55,  24,  95,  86,  40,  82,  64,  34,  87,\n",
       "        39,   1,  20,  25,   6,  94,  84,  73,  82,   3,  36,  70,  38,\n",
       "        65,  83,  38,  28,  47,  73,  47,  10,  88,  90,  72,   5,  13,\n",
       "        86,  34,  25,  23,  85,   3,   8,  46,  62,  39,  51,  22,  45,\n",
       "        75,  23,  49,  80,  51,  28,  99,  29,  59,  70,  78,  93,  28,\n",
       "        74,  47,   4,  88,   2,  64,  29,  89,  95,  47,  15,  38,  97,\n",
       "        49,  72,  40,  16,  34,   6,  87,  53,  21,  99,  29,  99,   2,\n",
       "        97,  26,  44,  96,  18,  98,  30,  23,  48,  55,  84,  23,  40,\n",
       "        64,  72,  14,  87,  78,   2,   4,  88, 100,   9,  16,  96,  32,\n",
       "        27,  15,  68, 100,  25,  15,  12,  71, 100,  24,  70,  41,  60,\n",
       "        31,  21,  60,  75,  80,  78,  89,  14,  82,  14,  24,  72,  25,\n",
       "        98,  28,  88,  18,  57,  98,  42,  67,  12,  36,  69,  83,  76,\n",
       "        91,  17,  43,  92,  40,  22,  64,  10,   6,  17,  76,  63,  70,\n",
       "        86,  50,  80,  68,  25,  33,   1,  79,  17,  43,  58,  19,  54,\n",
       "        83,  84,   1,  87,  16,  24,  84,  79,  64,  58,  24,  58,  64,\n",
       "        41,  33,  96,  58,  56,  95,  15,  65,  12,  35,  37,  30,  90,\n",
       "        11,  60,  32,   2,  10,  46,  22,  73,  55,  59,  30,  53,  89,\n",
       "        21,  82,  20,  80,  39,  35,  29,  56,  94,  55,  53,  48,  67,\n",
       "        55,  32,  58,  78,  90,  69,  28,  72,  97, 100,  60,  13,  84,\n",
       "        18,  51,  50,  84,  43,  97,  85,  46,  24,  92,   5,  30,  43,\n",
       "        53,  24,  14, 100,  36,  26,  13,  21,  90,  98,  40,  78,  85,\n",
       "        43,  59,  49,  47,  19,  12,  36,  94,  33,  87,  62,  41,  77,\n",
       "        92,  92,  19,  31,  50,  42,  17,  92,  68,   6,  60,  19,  58,\n",
       "        87,  40,  45,  42,  70,  24,  22,  53,  85,  78,  24,  25,  17,\n",
       "        35,  81,  56,  28,  66,  34,  65,   3,  59,  56,  22,  42,   4,\n",
       "        79, 100,  12,  37,  41,  58,  63,  71,  95,   5,  91,  89,  17,\n",
       "        28,  27,  53,  26,  49,  93,  60,  27,  81,  38,  80,   9])"
      ]
     },
     "execution_count": 56,
     "metadata": {},
     "output_type": "execute_result"
    }
   ],
   "source": [
    "a"
   ]
  },
  {
   "cell_type": "markdown",
   "metadata": {},
   "source": [
    "We can use numpy to answer some questions:"
   ]
  },
  {
   "cell_type": "code",
   "execution_count": 57,
   "metadata": {},
   "outputs": [
    {
     "data": {
      "text/plain": [
       "(1000,)"
      ]
     },
     "execution_count": 57,
     "metadata": {},
     "output_type": "execute_result"
    }
   ],
   "source": [
    "# 1. How many data points are there?\n",
    "a.shape"
   ]
  },
  {
   "cell_type": "code",
   "execution_count": 61,
   "metadata": {},
   "outputs": [
    {
     "data": {
      "text/plain": [
       "(311,)"
      ]
     },
     "execution_count": 61,
     "metadata": {},
     "output_type": "execute_result"
    }
   ],
   "source": [
    "# 2. How many data points are greater than 70? (.shape + .sum)\n",
    "a[a > 70].shape"
   ]
  },
  {
   "cell_type": "code",
   "execution_count": 66,
   "metadata": {},
   "outputs": [
    {
     "data": {
      "text/plain": [
       "311"
      ]
     },
     "execution_count": 66,
     "metadata": {},
     "output_type": "execute_result"
    }
   ],
   "source": [
    "# 2. How many data points are greater than 70?\n",
    "(a > 70).sum()"
   ]
  },
  {
   "cell_type": "code",
   "execution_count": 68,
   "metadata": {},
   "outputs": [
    {
     "data": {
      "text/plain": [
       "23401"
      ]
     },
     "execution_count": 68,
     "metadata": {},
     "output_type": "execute_result"
    }
   ],
   "source": [
    "# 3. What is the sum of the odd numbers?\n",
    "a[a % 2 == 1].sum()"
   ]
  },
  {
   "cell_type": "code",
   "execution_count": 78,
   "metadata": {},
   "outputs": [
    {
     "data": {
      "text/plain": [
       "(91,)"
      ]
     },
     "execution_count": 78,
     "metadata": {},
     "output_type": "execute_result"
    }
   ],
   "source": [
    "a[a < 10].shape"
   ]
  },
  {
   "cell_type": "code",
   "execution_count": 72,
   "metadata": {},
   "outputs": [
    {
     "data": {
      "text/plain": [
       "6400"
      ]
     },
     "execution_count": 72,
     "metadata": {},
     "output_type": "execute_result"
    }
   ],
   "source": [
    "# 4. Take all the numbers between 30 and 80 (inclusive), square them, what is the highest resulting number?\n",
    "(a[(a >= 30) & (a <= 80)] ** 2).max()"
   ]
  },
  {
   "cell_type": "code",
   "execution_count": 79,
   "metadata": {},
   "outputs": [
    {
     "data": {
      "text/plain": [
       "6400"
      ]
     },
     "execution_count": 79,
     "metadata": {},
     "output_type": "execute_result"
    }
   ],
   "source": [
    "# 4. Take all the numbers between 30 and 80 (inclusive), square them, what is the highest resulting number?\n",
    "more_than_30 = a >= 30\n",
    "less_than_80 = a <= 80\n",
    "\n",
    "in_our_desired_range = more_than_30 & less_than_80\n",
    "\n",
    "desired_numbers = a[in_our_desired_range]\n",
    "desired_numbers_squared = desired_numbers ** 2\n",
    "\n",
    "desired_numbers_squared.max()"
   ]
  },
  {
   "cell_type": "markdown",
   "metadata": {},
   "source": [
    "`np.where` will produce values conditionally, based on a boolean array"
   ]
  },
  {
   "cell_type": "code",
   "execution_count": 80,
   "metadata": {},
   "outputs": [
    {
     "data": {
      "text/plain": [
       "1595.057"
      ]
     },
     "execution_count": 80,
     "metadata": {},
     "output_type": "execute_result"
    }
   ],
   "source": [
    "# 5. Square the odd numbers in the array. What is the average of the resulting data set? (np.where)\n",
    "odd_numbers_squared = np.where(a % 2 == 1, a ** 2, a)\n",
    "\n",
    "odd_numbers_squared.mean()"
   ]
  },
  {
   "cell_type": "code",
   "execution_count": 83,
   "metadata": {},
   "outputs": [
    {
     "data": {
      "text/plain": [
       "7740"
      ]
     },
     "execution_count": 83,
     "metadata": {},
     "output_type": "execute_result"
    }
   ],
   "source": [
    "# 6. Square the even numbers in the array. Remove any odd number less than 40.\n",
    "#    Double odd numbers greater than 80. What is the sum of the resulting dataset?\n",
    "evens_squared = np.where(a % 2 == 0, a ** 2, a)\n",
    "x = evens_squared[(evens_squared % 2 == 1) & (evens_squared < 40)]\n",
    "x = np.where(x % 2 == 1, x * 2, x)\n",
    "x.sum()"
   ]
  },
  {
   "cell_type": "markdown",
   "metadata": {},
   "source": [
    "## Matrices\n",
    "\n",
    "- construction\n",
    "- manipulating\n",
    "- axis="
   ]
  },
  {
   "cell_type": "code",
   "execution_count": null,
   "metadata": {},
   "outputs": [],
   "source": [
    "m = [[1, 2, 3], [4, 5, 6], [7, 8, 9]]"
   ]
  }
 ],
 "metadata": {
  "kernelspec": {
   "display_name": "Python 3",
   "language": "python",
   "name": "python3"
  },
  "language_info": {
   "codemirror_mode": {
    "name": "ipython",
    "version": 3
   },
   "file_extension": ".py",
   "mimetype": "text/x-python",
   "name": "python",
   "nbconvert_exporter": "python",
   "pygments_lexer": "ipython3",
   "version": "3.7.3"
  }
 },
 "nbformat": 4,
 "nbformat_minor": 4
}
