{
 "cells": [
  {
   "cell_type": "markdown",
   "metadata": {},
   "source": [
    "# Pandas Dataframes\n",
    "\n",
    "## Agenda\n",
    "\n",
    "1. **About** Dataframes   \n",
    "\n",
    "2. **Create**   \n",
    "    A. Object types  \n",
    "    B. Naming conventions  \n",
    "    \n",
    "3. **View**  \n",
    "\n",
    "4. **Compare**  \n",
    "\n",
    "5. **Summarize**   \n",
    "\n",
    "6. **Dataframe Attributes**  \n",
    "\n",
    "7. **Subset/Filter**  \n",
    "    A. Columns  \n",
    "    B. Rows \n",
    "        \n",
    "8. **Drop, Rename, Add Columns**  \n",
    "    A. Dropping columns  \n",
    "    B. Renaming columns  \n",
    "    C. Adding columns   \n",
    "\n",
    "9. **Sort**\n",
    "\n",
    "10. **Chain DF Methods**  "
   ]
  },
  {
   "cell_type": "markdown",
   "metadata": {},
   "source": [
    "## About Dataframes\n",
    "\n",
    "- tabular  \n",
    "- 2-dimensional   \n",
    "- provide a number of facilities for manipulating and transforming the data   \n",
    "\n",
    "**Pandas Help: Functions & Methods**\n",
    "\n",
    "[Pandas Funtions](https://pandas.pydata.org/pandas-docs/stable/reference/general_functions.html) will begin with `pd`, such as `pd.concat()`. (See link for list of functions.)\n",
    "\n",
    "Methods are *called on* objects, so [Pandas DataFrame Methods](https://pandas.pydata.org/pandas-docs/stable/reference/frame.html) \n",
    " will be called on dataframes. That means that these will begin with the name of your dataframe, such as `df.info()` where the name of your dataframe is `df`. Similarly, [Series Methods](https://pandas.pydata.org/pandas-docs/stable/reference/series.html) will look like `my_series.T`, as an example. (See links for list of methods.) "
   ]
  },
  {
   "cell_type": "code",
   "execution_count": 66,
   "metadata": {},
   "outputs": [],
   "source": [
    "import pandas as pd"
   ]
  },
  {
   "cell_type": "markdown",
   "metadata": {},
   "source": [
    "## Create Dataframes\n",
    "\n",
    "1. We can pass a dictionary to create a dataframe, where the keys correspond to the names of the columns, and the values associated with those keys will make up the data.  \n",
    "\n",
    "2. We can also pass lists or arrays to create a dataframe, where each list or array represents a row in the dataframe.   \n",
    "\n",
    "3. We can copy an existing dataframe into a new dataframe\n",
    "\n",
    "4. We can also create dataframes by reading data from an existing structured data set, such as a csv, a sql table, or an excel file. \n",
    "\n",
    "For this lesson, we will create a dataframe using the existing standings for NBA Western Conference using the first 3 methods above."
   ]
  },
  {
   "cell_type": "markdown",
   "metadata": {},
   "source": [
    "**Method 1**  \n",
    "\n",
    "Pass a dictionary where keys => column names, values => column values. "
   ]
  },
  {
   "cell_type": "code",
   "execution_count": 67,
   "metadata": {},
   "outputs": [],
   "source": [
    "teams_col = ['LAL', 'LAC', 'DEN', 'OKC', 'HOU', 'UTA', 'DAL', \n",
    "             'POR', 'MEM', 'PHX', 'SAS', 'SAC', 'NO', 'MIN', 'GS']\n",
    "wins_col = [52, 48, 46, 44, 44, 43, 43, \n",
    "            34, 33, 33, 32, 30, 30, 19, 15]\n",
    "losses_col = [18, 23, 26, 27, 27, 28, 31, \n",
    "              39, 39, 39, 38, 41, 41, 45, 50]\n",
    "games_back_col = [0, 4.5, 7, 8.5, 8.5, 9.5, 11, \n",
    "                  19.5, 20, 20, 20, 22.5, 22.5, 30, 34.5]\n",
    "\n",
    "nba_df_from_dict_as_cols = pd.DataFrame(\n",
    "    {'team': teams_col, \n",
    "     'win': wins_col, \n",
    "     'loss': losses_col, \n",
    "     'games_back': games_back_col}\n",
    ")"
   ]
  },
  {
   "cell_type": "markdown",
   "metadata": {},
   "source": [
    "**Method 2**. \n",
    "\n",
    "Pass a list of lists where each nested list is a row in the dataframe. "
   ]
  },
  {
   "cell_type": "code",
   "execution_count": 68,
   "metadata": {},
   "outputs": [],
   "source": [
    "nba_df_from_lists_as_rows = pd.DataFrame(\n",
    "    [['LAL', 52, 18, 0], \n",
    "     ['LAC', 48, 23, 4.5], \n",
    "     ['DEN', 46, 26, 7.0], \n",
    "     ['OKC', 44, 27, 8.5], \n",
    "     ['HOU', 44, 27, 8.5], \n",
    "     ['UTA', 43, 28, 9.5], \n",
    "     ['DAL', 43, 31, 11], \n",
    "     ['POR', 34, 39, 19.5], \n",
    "     ['MEM', 33, 39, 20], \n",
    "     ['PHX', 33, 39, 20], \n",
    "     ['SAS', 32, 38, 20], \n",
    "     ['SAC', 30, 41, 22.5], \n",
    "     ['NO', 30, 41, 22.5], \n",
    "     ['MIN', 19, 45, 30], \n",
    "     ['GS', 15, 50, 34.5]\n",
    "    ], \n",
    "    columns = ['team', 'win', 'loss', 'games_back']\n",
    ")"
   ]
  },
  {
   "cell_type": "markdown",
   "metadata": {},
   "source": [
    "**Method 3**\n",
    "\n",
    "Copy a dataframe from an existing dataframe. "
   ]
  },
  {
   "cell_type": "code",
   "execution_count": 69,
   "metadata": {},
   "outputs": [],
   "source": [
    "nba_df = nba_df_from_lists_as_rows"
   ]
  },
  {
   "cell_type": "markdown",
   "metadata": {},
   "source": [
    "### Object Types\n",
    "\n",
    "Guesses for the type of objects we just created?"
   ]
  },
  {
   "cell_type": "markdown",
   "metadata": {},
   "source": [
    "### Naming Conventions for Dataframes\n",
    "\n",
    "It is common dataframes to contain `df` in their variable names, as we have here with `nba_df`. In many examples, you may see dataframes simply with the name `df`. In practice, especially if you are working with multiple dataframes, it is good to have a name that will describe what your dataframe contains or how it differs from the other dataframes in your environment, i.e. other dataframes you have created in your notebook or current python session or kernel. For example, when I created the first two dataframes, which are exactly the same, but my purpose is to demonstrate the different ways of creating them, I name them to identify that, albeit ridiculously long names ;). (We will compare them later to prove they are identical, btw). "
   ]
  },
  {
   "cell_type": "markdown",
   "metadata": {},
   "source": [
    "## View Dataframes\n",
    "\n",
    "What's in these dataframes we just created? \n",
    "\n",
    "1. `nba_df` (without `print()`) gives a nice pretty display\n",
    "2. `nba_df` (without `print()`) will not work outside of jupyter or ipython.   \n",
    "3. `print(nba_df)` does not have an `Out[#]`, while `nba_df` does.    \n",
    "4. `nba_df` (without `print()`) will not return anything if there is a statement following it in the same cell that displays something.  "
   ]
  },
  {
   "cell_type": "markdown",
   "metadata": {},
   "source": [
    "## Compare Dataframes\n",
    "\n",
    "Are nba_df_from_dict_as_cols and nba_df_from_lists_as_rows \n",
    "equivalent dataframes? Don't take my word for it. \n",
    "\n",
    "remember from numpy... `(my_array < 0).all()`?"
   ]
  },
  {
   "cell_type": "markdown",
   "metadata": {},
   "source": [
    "## Summarize Dataframes\n",
    "\n",
    "- `df.info()`:  See total number of rows, column names, number of non-null values for each column, datatype of each column, size of the dataframe (memory usage) \n",
    "\n",
    "- `df.describe()`: Summary statistics of all the columns with numeric datatypes. \n"
   ]
  },
  {
   "cell_type": "markdown",
   "metadata": {},
   "source": [
    "## Dataframe Attributes\n",
    "\n",
    "- `df.dtypes`: datatype of each column\n",
    "- `df.shape`: tuple of number of rows & columns in the dataframe\n",
    "- `df.index`: the labels for each row (usually autogenerated int)\n",
    "- `df.columns`: you can also assign new values to this attribute. \n",
    "\n",
    "You will notice that when calling these attributes of dataframes, they are not followed by `()`. When you forget, you will just get a nice error to remind you :)"
   ]
  },
  {
   "cell_type": "markdown",
   "metadata": {},
   "source": [
    "## Subset/Filter Dataframes\n",
    "\n",
    "### Columns\n",
    "\n",
    "Return a dataframe\n",
    "\n",
    "- `df[[col1, col2]]`  \n",
    "- `df[[col1]]`  \n",
    "- `mycols = [col1, col2]` -> `df[mycols]`  \n",
    "\n",
    "Return a series\n",
    "- `df[col1]`  \n",
    "- `df.col1`  \n",
    "\n",
    "\n",
    "### Rows\n",
    "\n",
    "We can take a peek at the first 5 rows, last 5 rows, a random sample, or anything in between. \n",
    "\n",
    "- `df.head()`: first n rows (default n = 5)  \n",
    "- `df.tail()`: last n rows (default n = 5)  \n",
    "- `df.sample(n)`: sample n rows  \n",
    "- `df.sample(frac)`: sample frac (proportion) of rows     \n",
    "- `df[df.col1 < x]`: all columns and all rows where col1 value is less than x\n",
    "\n",
    "### Columns & Rows\n",
    "\n",
    "- `df[df.col1 < x].col2`: column 2 and rows where col1 value is less than x. What kind of object is returned?     \n",
    "- `df[df.col1 < x][[col1, col2]]`: columns 1 & 2 and rows where col1 value is less than x. What kind of object is returned?   \n"
   ]
  },
  {
   "cell_type": "markdown",
   "metadata": {},
   "source": [
    "## Drop, Rename, Add Columns\n",
    "\n",
    "\n",
    "- `df.drop(colums=[])`\n",
    "- `df.rename(columns={'original_name': 'new_name'})`\n",
    "- `df['new_col'] = df.col1 < x`\n",
    "- `df.assign(new_col=df.col1 < x)`\n",
    "\n",
    "In the drop and rename methods (and many others in pandas), the original dataframe is not changed, but instead a new dataframe is produced. However, you can use the `inplace` argument to change the original dataframe. \n"
   ]
  },
  {
   "cell_type": "markdown",
   "metadata": {},
   "source": [
    "## Sort Dataframes\n",
    "\n",
    "- `df.sort_values(by='col1', ascending=False)`: default is True, so `ascending` argument is not necessary if sorting in ascending order. "
   ]
  },
  {
   "cell_type": "markdown",
   "metadata": {},
   "source": [
    "## Chain Dataframe Methods\n",
    "\n",
    "As long as each method is returning a dataframe, these can be chained together to quickly and easily create the dataframe you need. "
   ]
  }
 ],
 "metadata": {
  "kernelspec": {
   "display_name": "Python 3",
   "language": "python",
   "name": "python3"
  },
  "language_info": {
   "codemirror_mode": {
    "name": "ipython",
    "version": 3
   },
   "file_extension": ".py",
   "mimetype": "text/x-python",
   "name": "python",
   "nbconvert_exporter": "python",
   "pygments_lexer": "ipython3",
   "version": "3.6.8"
  }
 },
 "nbformat": 4,
 "nbformat_minor": 2
}
