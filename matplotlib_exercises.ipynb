{
 "cells": [
  {
   "cell_type": "markdown",
   "metadata": {},
   "source": [
    "# Matplotlib Review\n",
    "\n",
    "## Agenda\n",
    "\n",
    "**Thought for the day**\n",
    "\n",
    "*There is no better than adversity. Every defeat, every heartbreak, every loss, contains its own seed, its own lesson on how to improve your performance the next time.* – Malcolm X\n",
    "\n",
    "1. Review Matplotlib lesson, exercises\n",
    "2. Numpy Lesson\n",
    "3. Numpy Exercises\n",
    "4. This week: \n",
    "\n",
    "\n",
    "## Lesson Review with New Data\n",
    "\n",
    "### Histograms\n",
    "\n",
    "- Histograms are often used in the data prep stage of the pipeline. \n",
    "- They are good for the discovery of a single variable\n",
    "    - the distribution - skewed right or left, normally distributed ('bell curve'), uniformly distributed, etc. \n",
    "    - the range of values - wide or narrow range? can values be < 0? what is the max value? \n",
    "    - outliers - true outliers? data errors? \n",
    "- Box plots are often used for these types of discoveries, also. \n",
    "\n",
    "### Line & Scatterplots\n",
    "\n",
    "- Line & scatter plots, as well as bar plots, and many, many others, are most commonly used for exploring the relationships between variables, and, as you would expect, are used in the exploration stage of the pipeline.  \n",
    "- Line & Scatter Plots are used when your x and y variables are both numeric and ordered, while bar plots are used when you have one numeric and one categorical variable. \n",
    "- Color can be added on any of these as a third dimension, and one that represents a categorical variable. It can be used to create multiple lines representing categories or classes, or to identify points on a scatterplot as belonging to one category or class.   \n",
    "- Size can be added as a third (or fourth) dimension to scatter plots to represent a numeric or ordered variable.  \n",
    "- Line is best when x represents time.   \n",
    "- Scatter is best when x is numeric, but doesn't represent time.   \n",
    "\n",
    "\n"
   ]
  },
  {
   "cell_type": "markdown",
   "metadata": {},
   "source": [
    "### Prep Environment"
   ]
  },
  {
   "cell_type": "code",
   "execution_count": null,
   "metadata": {},
   "outputs": [],
   "source": [
    "import matplotlib.pyplot as plt\n",
    "import pandas as pd\n",
    "%matplotlib inline"
   ]
  },
  {
   "cell_type": "markdown",
   "metadata": {},
   "source": [
    "### Get data"
   ]
  },
  {
   "cell_type": "code",
   "execution_count": null,
   "metadata": {},
   "outputs": [],
   "source": [
    "from pydataset import data\n",
    "data()"
   ]
  },
  {
   "cell_type": "markdown",
   "metadata": {},
   "source": [
    "We will look at the sleep study and iris datasets. \n",
    "\n",
    "**Sleep Study**\n",
    "\n",
    "Reaction times in a sleep deprivation study  "
   ]
  },
  {
   "cell_type": "code",
   "execution_count": null,
   "metadata": {},
   "outputs": [],
   "source": [
    "## Load the sleep study data\n",
    "sleep = data('sleepstudy')\n",
    "\n",
    "## peek into the dataset\n",
    "sleep.head()"
   ]
  },
  {
   "cell_type": "markdown",
   "metadata": {},
   "source": [
    "**Takeaways**\n",
    "\n",
    "- Reaction = Reaction time (duration)\n",
    "- Days = Day number of deprivation\n",
    "- Subject = Subject ID\n",
    "- We can use `Days` as x because it is related to date/time, and date/time should always be on the x axis.\n",
    "- We can and `Reaction` as our y becuase, well, `Days` is x, and it represents a measure, in this case duration. \n",
    "- Becuase `Subject` is a category (the number doesn't actually mean anything, i.e. order doesn't matter, and the distance between one and another means nothing), we can possibly represent this in our plots using color. "
   ]
  },
  {
   "cell_type": "code",
   "execution_count": null,
   "metadata": {},
   "outputs": [],
   "source": [
    "# create x and y variables\n",
    "\n",
    "x_day = sleep['Days']\n",
    "\n",
    "y_rxn = sleep['Reaction']\n",
    "\n",
    "# take a look at what we have...\n",
    "\n",
    "type(x_day)"
   ]
  },
  {
   "cell_type": "markdown",
   "metadata": {},
   "source": [
    "Each one of these is a pandas series, which we will learn about later this week. Just as we gave our plotting functions (.plot(), .scatter()) list objects for x and y in the lesson, we can also give them series objects. "
   ]
  },
  {
   "cell_type": "markdown",
   "metadata": {},
   "source": [
    "**Iris**\n",
    "\n",
    "Contains iris species along with sample sepal & petal measurements. "
   ]
  },
  {
   "cell_type": "code",
   "execution_count": null,
   "metadata": {},
   "outputs": [],
   "source": [
    "iris = data('iris')\n",
    "iris.head()"
   ]
  },
  {
   "cell_type": "markdown",
   "metadata": {},
   "source": [
    "**Takeaways**\n",
    "\n",
    "- Sepal.Length: Length of sepal of sample iris, use as y (because length)\n",
    "- Sepal.Width: Width of sepal of sample iris, use as x (because width)\n",
    "- Petal.Length: Length of petal of sample iris, y2\n",
    "- Petal.Width: Width of petal of sample iris, x2\n",
    "- Species: Iris species, use as z (because categorical)"
   ]
  },
  {
   "cell_type": "markdown",
   "metadata": {},
   "source": [
    "### Line Plots"
   ]
  },
  {
   "cell_type": "markdown",
   "metadata": {},
   "source": [
    "### Scatterplots"
   ]
  },
  {
   "cell_type": "markdown",
   "metadata": {},
   "source": [
    "## Histograms"
   ]
  },
  {
   "cell_type": "markdown",
   "metadata": {},
   "source": [
    "## Exercises\n",
    "\n",
    "Plot $y = x^{2} - x + 2$. \n",
    "\n",
    "- Generate the x and y points.\n",
    "- Annotate the origin.  "
   ]
  },
  {
   "cell_type": "markdown",
   "metadata": {},
   "source": [
    "Plot $y = \\sqrt{x}$ "
   ]
  },
  {
   "cell_type": "markdown",
   "metadata": {},
   "source": [
    "Plot $y = x^{3}$"
   ]
  },
  {
   "cell_type": "markdown",
   "metadata": {},
   "source": [
    "Plot $y = 2^{x}$ "
   ]
  },
  {
   "cell_type": "markdown",
   "metadata": {},
   "source": [
    "3. Combine the figures you created in the last step into one large figure with 4 subplots.  "
   ]
  },
  {
   "cell_type": "markdown",
   "metadata": {},
   "source": [
    "4. Comine the figures you created in the last step into one figure where each of the 4 equations has a different color for the points. Be sure to include a legend.  "
   ]
  }
 ],
 "metadata": {
  "kernelspec": {
   "display_name": "Python 3",
   "language": "python",
   "name": "python3"
  },
  "language_info": {
   "codemirror_mode": {
    "name": "ipython",
    "version": 3
   },
   "file_extension": ".py",
   "mimetype": "text/x-python",
   "name": "python",
   "nbconvert_exporter": "python",
   "pygments_lexer": "ipython3",
   "version": "3.6.8"
  }
 },
 "nbformat": 4,
 "nbformat_minor": 2
}
